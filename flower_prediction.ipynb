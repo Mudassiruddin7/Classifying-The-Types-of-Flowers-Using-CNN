{
 "cells": [
  {
   "cell_type": "code",
   "execution_count": 1,
   "id": "94040207",
   "metadata": {},
   "outputs": [
    {
     "name": "stdout",
     "output_type": "stream",
     "text": [
      "(375, 500, 3)\n",
      "(180, 180, 3)\n",
      "(1, 180, 180, 3)\n",
      "1/1 [==============================] - 1s 512ms/step\n",
      "prediction is  tulips\n"
     ]
    }
   ],
   "source": [
    "from tensorflow import keras\n",
    "import cv2\n",
    "import numpy as np\n",
    "\n",
    "model = keras.models.load_model('flower.h5')\n",
    "\n",
    "pred = {0:'roses',\n",
    "    1:'daisy',\n",
    "    2:'dandelion',\n",
    "    3:'sunflowers',\n",
    "    4:'tulips'}\n",
    "\n",
    "img = cv2.imread(r'datasets\\flower_photos\\2.jpg')  #change path to the image you want to test\n",
    "cv2.imshow(\"flower\",img)\n",
    "print(img.shape)\n",
    "img = cv2.resize(img,(180,180))\n",
    "print(img.shape)\n",
    "img = img.reshape(-1,180,180,3)\n",
    "print(img.shape)\n",
    "img = img/255\n",
    "predictions = model.predict(img)\n",
    "print(\"prediction is \",pred[np.argmax(predictions)])\n",
    "cv2.waitKey(0)\n",
    "cv2.destroyAllWindows() "
   ]
  },
  {
   "cell_type": "code",
   "execution_count": null,
   "id": "ba9250fa",
   "metadata": {},
   "outputs": [],
   "source": []
  }
 ],
 "metadata": {
  "kernelspec": {
   "display_name": "Python 3 (ipykernel)",
   "language": "python",
   "name": "python3"
  },
  "language_info": {
   "codemirror_mode": {
    "name": "ipython",
    "version": 3
   },
   "file_extension": ".py",
   "mimetype": "text/x-python",
   "name": "python",
   "nbconvert_exporter": "python",
   "pygments_lexer": "ipython3",
   "version": "3.9.7"
  }
 },
 "nbformat": 4,
 "nbformat_minor": 5
}
